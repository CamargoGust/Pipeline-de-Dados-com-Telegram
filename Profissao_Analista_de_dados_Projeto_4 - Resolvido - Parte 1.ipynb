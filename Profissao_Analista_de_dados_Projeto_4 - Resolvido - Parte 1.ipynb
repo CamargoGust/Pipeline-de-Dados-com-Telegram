{
  "nbformat": 4,
  "nbformat_minor": 0,
  "metadata": {
    "colab": {
      "provenance": [],
      "collapsed_sections": [
        "JG1HL69-j0lH",
        "s_Dj-BgThLg5",
        "jeEzLmuRhDQy",
        "PoTeRwlihDQ0",
        "QpMlxqRyhDQ1",
        "ov7Fg-mWhDQ1",
        "DvHPNAoPgdiG",
        "3SMp5GwjglJm",
        "e3ieQfXTgqd3",
        "L0pKWNr5fm9z",
        "DMhCpOU_gupo",
        "l3h0WP2Eg2ht",
        "rWG4Vk6XaWtf",
        "wkibgd8rB8y3",
        "IjPaJtnYE0MI",
        "2lpj1rszc--m",
        "HnWg_mhLd5gC",
        "RhqmXiHQo-is",
        "SvT9xrajLL7J",
        "91eSyA2cLLqv"
      ]
    },
    "kernelspec": {
      "name": "python3",
      "display_name": "Python 3"
    }
  },
  "cells": [
    {
      "cell_type": "markdown",
      "metadata": {
        "id": "KJqp9AANOCtf"
      },
      "source": [
        "<img src=\"https://raw.githubusercontent.com/andre-marcos-perez/ebac-course-utils/main/media/logo/newebac_logo_black_half.png\" alt=\"ebac-logo\">\n",
        "\n",
        "---\n",
        "\n",
        "# **Módulo** | Pipeline de Dados do Telegram I\n",
        "Caderno de **Exercícios**<br>\n",
        "Professor [André Perez](https://www.linkedin.com/in/andremarcosperez/)\n",
        "\n",
        "---"
      ]
    },
    {
      "cell_type": "markdown",
      "metadata": {
        "id": "d9jDtUbDOE1-"
      },
      "source": [
        "# **Tópicos**\n",
        "\n",
        "<ol type=\"1\">\n",
        "  <li>Contexto;</li>\n",
        "  <li>Telegram;</li>\n",
        "  <li>Dados.</li>\n",
        "</ol>"
      ]
    },
    {
      "cell_type": "markdown",
      "metadata": {
        "id": "SmoHgt-lwkpD"
      },
      "source": [
        "---"
      ]
    },
    {
      "cell_type": "markdown",
      "metadata": {
        "id": "GABI6OW8OfQ2"
      },
      "source": [
        "# **Exercícios**"
      ]
    },
    {
      "cell_type": "markdown",
      "metadata": {
        "id": "ne7Ay0HKaGSv"
      },
      "source": [
        "## 1\\. Telegram."
      ]
    },
    {
      "cell_type": "markdown",
      "metadata": {
        "id": "OQxOVktrzG9I"
      },
      "source": [
        "Replique as atividades da aula 2."
      ]
    },
    {
      "cell_type": "markdown",
      "source": [
        "1.1. Crie uma conta no **Telegram** caso não possua uma e faça o login na versão web da ferramenta através desse [link](https://web.telegram.org)."
      ],
      "metadata": {
        "id": "E69nBHvAa_O5"
      }
    },
    {
      "cell_type": "markdown",
      "source": [
        "1.2. Crie um *bot*."
      ],
      "metadata": {
        "id": "R9Ils6eccOLS"
      }
    },
    {
      "cell_type": "markdown",
      "source": [
        "1.3. Crie um grupo e adicione o *bot*."
      ],
      "metadata": {
        "id": "8oTn1Z1Md2GQ"
      }
    },
    {
      "cell_type": "markdown",
      "source": [
        "1.4. Torne o *bot* administrador do grupo."
      ],
      "metadata": {
        "id": "LzXWWUWzeNxt"
      }
    },
    {
      "cell_type": "markdown",
      "source": [
        "1.5. Desabilite a opção de adicionar o *bot* a novos grupos."
      ],
      "metadata": {
        "id": "_D2WT_iueaRr"
      }
    },
    {
      "cell_type": "markdown",
      "source": [
        "1.6. Envie diversos tipos de mensagens no grupo (text, imagem, arquivos, video, áudio, etc.) e as consuma utilizand a API de *bots* do **Telegram**."
      ],
      "metadata": {
        "id": "t4PyML7VUPBd"
      }
    },
    {
      "cell_type": "markdown",
      "source": [
        "> **Nota:** A documentação completa da API pode ser encontrada neste [link](https://core.telegram.org/bots/api)"
      ],
      "metadata": {
        "id": "c4MXmvWMUetr"
      }
    },
    {
      "cell_type": "code",
      "source": [
        "# Solução do item 1.6.\n",
        "#6764256180:AAGSEJxc7iA7w6CP_CfL_MsN_g_Rw6gNUJ0\n",
        "from getpass import getpass\n",
        "\n",
        "token = getpass()"
      ],
      "metadata": {
        "id": "y3idc49neaRt",
        "colab": {
          "base_uri": "https://localhost:8080/"
        },
        "outputId": "17d1978d-cddd-4e77-cca3-1627142d03d6"
      },
      "execution_count": null,
      "outputs": [
        {
          "name": "stdout",
          "output_type": "stream",
          "text": [
            "··········\n"
          ]
        }
      ]
    },
    {
      "cell_type": "code",
      "source": [
        "import json\n",
        "\n",
        "import requests\n",
        "\n",
        "base_url = f'https://api.telegram.org/bot{token}'"
      ],
      "metadata": {
        "id": "TN05dbs4LItk"
      },
      "execution_count": null,
      "outputs": []
    },
    {
      "cell_type": "markdown",
      "source": [
        "Informações sobre o Bot:"
      ],
      "metadata": {
        "id": "Z1ZQRPn8LQL7"
      }
    },
    {
      "cell_type": "code",
      "source": [
        "response = requests.get(url=f'{base_url}/getMe')\n",
        "print(f'{base_url}/getMe')\n",
        "\n",
        "print(json.dumps(json.loads(response.text), indent=2))"
      ],
      "metadata": {
        "colab": {
          "base_uri": "https://localhost:8080/"
        },
        "id": "jW-99drULK0K",
        "outputId": "2ce11423-7a17-47aa-ab9f-7a7c33f10b2f"
      },
      "execution_count": null,
      "outputs": [
        {
          "output_type": "stream",
          "name": "stdout",
          "text": [
            "https://api.telegram.org/bot6764256180:AAGSEJxc7iA7w6CP_CfL_MsN_g_Rw6gNUJ0/getMe\n",
            "{\n",
            "  \"ok\": true,\n",
            "  \"result\": {\n",
            "    \"id\": 6764256180,\n",
            "    \"is_bot\": true,\n",
            "    \"first_name\": \"m42-ebac-gustavocamargo\",\n",
            "    \"username\": \"m42_ebac_gustavocamargo_bot\",\n",
            "    \"can_join_groups\": false,\n",
            "    \"can_read_all_group_messages\": false,\n",
            "    \"supports_inline_queries\": false\n",
            "  }\n",
            "}\n"
          ]
        }
      ]
    },
    {
      "cell_type": "markdown",
      "source": [
        "Atualizações sobre o Bot:"
      ],
      "metadata": {
        "id": "ZZAROGDgLURr"
      }
    },
    {
      "cell_type": "code",
      "source": [
        "response = requests.get(url=f'{base_url}/getUpdates')\n",
        "\n",
        "print(json.dumps(json.loads(response.text), indent=2))"
      ],
      "metadata": {
        "colab": {
          "base_uri": "https://localhost:8080/"
        },
        "id": "LTEHvLRfLMGQ",
        "outputId": "b7020cc0-3fc7-4bcf-998d-bb3d64742194"
      },
      "execution_count": null,
      "outputs": [
        {
          "output_type": "stream",
          "name": "stdout",
          "text": [
            "{\n",
            "  \"ok\": true,\n",
            "  \"result\": [\n",
            "    {\n",
            "      \"update_id\": 298870306,\n",
            "      \"message\": {\n",
            "        \"message_id\": 3,\n",
            "        \"from\": {\n",
            "          \"id\": 1326340996,\n",
            "          \"is_bot\": false,\n",
            "          \"first_name\": \"C\",\n",
            "          \"last_name\": \"K\",\n",
            "          \"username\": \"gus_camar\",\n",
            "          \"language_code\": \"en\"\n",
            "        },\n",
            "        \"chat\": {\n",
            "          \"id\": -1002126730888,\n",
            "          \"title\": \"m42 ebac grupo\",\n",
            "          \"type\": \"supergroup\"\n",
            "        },\n",
            "        \"date\": 1697807078,\n",
            "        \"new_chat_participant\": {\n",
            "          \"id\": 6345087788,\n",
            "          \"is_bot\": true,\n",
            "          \"first_name\": \"m42_ebac_bot\",\n",
            "          \"username\": \"m42_ebac_bot\"\n",
            "        },\n",
            "        \"new_chat_member\": {\n",
            "          \"id\": 6345087788,\n",
            "          \"is_bot\": true,\n",
            "          \"first_name\": \"m42_ebac_bot\",\n",
            "          \"username\": \"m42_ebac_bot\"\n",
            "        },\n",
            "        \"new_chat_members\": [\n",
            "          {\n",
            "            \"id\": 6345087788,\n",
            "            \"is_bot\": true,\n",
            "            \"first_name\": \"m42_ebac_bot\",\n",
            "            \"username\": \"m42_ebac_bot\"\n",
            "          }\n",
            "        ]\n",
            "      }\n",
            "    },\n",
            "    {\n",
            "      \"update_id\": 298870307,\n",
            "      \"message\": {\n",
            "        \"message_id\": 5,\n",
            "        \"from\": {\n",
            "          \"id\": 1326340996,\n",
            "          \"is_bot\": false,\n",
            "          \"first_name\": \"C\",\n",
            "          \"last_name\": \"K\",\n",
            "          \"username\": \"gus_camar\",\n",
            "          \"language_code\": \"en\"\n",
            "        },\n",
            "        \"chat\": {\n",
            "          \"id\": -4068400431,\n",
            "          \"title\": \"Projeto 4 - EBAC\",\n",
            "          \"type\": \"group\",\n",
            "          \"all_members_are_administrators\": true\n",
            "        },\n",
            "        \"date\": 1697807161,\n",
            "        \"group_chat_created\": true\n",
            "      }\n",
            "    },\n",
            "    {\n",
            "      \"update_id\": 298870308,\n",
            "      \"my_chat_member\": {\n",
            "        \"chat\": {\n",
            "          \"id\": -4068400431,\n",
            "          \"title\": \"Projeto 4 - EBAC\",\n",
            "          \"type\": \"group\",\n",
            "          \"all_members_are_administrators\": true\n",
            "        },\n",
            "        \"from\": {\n",
            "          \"id\": 1326340996,\n",
            "          \"is_bot\": false,\n",
            "          \"first_name\": \"C\",\n",
            "          \"last_name\": \"K\",\n",
            "          \"username\": \"gus_camar\",\n",
            "          \"language_code\": \"en\"\n",
            "        },\n",
            "        \"date\": 1697807161,\n",
            "        \"old_chat_member\": {\n",
            "          \"user\": {\n",
            "            \"id\": 6764256180,\n",
            "            \"is_bot\": true,\n",
            "            \"first_name\": \"m42-ebac-gustavocamargo\",\n",
            "            \"username\": \"m42_ebac_gustavocamargo_bot\"\n",
            "          },\n",
            "          \"status\": \"left\"\n",
            "        },\n",
            "        \"new_chat_member\": {\n",
            "          \"user\": {\n",
            "            \"id\": 6764256180,\n",
            "            \"is_bot\": true,\n",
            "            \"first_name\": \"m42-ebac-gustavocamargo\",\n",
            "            \"username\": \"m42_ebac_gustavocamargo_bot\"\n",
            "          },\n",
            "          \"status\": \"member\"\n",
            "        }\n",
            "      }\n",
            "    },\n",
            "    {\n",
            "      \"update_id\": 298870309,\n",
            "      \"my_chat_member\": {\n",
            "        \"chat\": {\n",
            "          \"id\": -1002067176796,\n",
            "          \"title\": \"Projeto 4 - EBAC\",\n",
            "          \"type\": \"supergroup\"\n",
            "        },\n",
            "        \"from\": {\n",
            "          \"id\": 1326340996,\n",
            "          \"is_bot\": false,\n",
            "          \"first_name\": \"C\",\n",
            "          \"last_name\": \"K\",\n",
            "          \"username\": \"gus_camar\",\n",
            "          \"language_code\": \"en\"\n",
            "        },\n",
            "        \"date\": 1697807195,\n",
            "        \"old_chat_member\": {\n",
            "          \"user\": {\n",
            "            \"id\": 6764256180,\n",
            "            \"is_bot\": true,\n",
            "            \"first_name\": \"m42-ebac-gustavocamargo\",\n",
            "            \"username\": \"m42_ebac_gustavocamargo_bot\"\n",
            "          },\n",
            "          \"status\": \"left\"\n",
            "        },\n",
            "        \"new_chat_member\": {\n",
            "          \"user\": {\n",
            "            \"id\": 6764256180,\n",
            "            \"is_bot\": true,\n",
            "            \"first_name\": \"m42-ebac-gustavocamargo\",\n",
            "            \"username\": \"m42_ebac_gustavocamargo_bot\"\n",
            "          },\n",
            "          \"status\": \"member\"\n",
            "        }\n",
            "      }\n",
            "    },\n",
            "    {\n",
            "      \"update_id\": 298870310,\n",
            "      \"message\": {\n",
            "        \"message_id\": 6,\n",
            "        \"from\": {\n",
            "          \"id\": 1326340996,\n",
            "          \"is_bot\": false,\n",
            "          \"first_name\": \"C\",\n",
            "          \"last_name\": \"K\",\n",
            "          \"username\": \"gus_camar\",\n",
            "          \"language_code\": \"en\"\n",
            "        },\n",
            "        \"chat\": {\n",
            "          \"id\": -4068400431,\n",
            "          \"title\": \"Projeto 4 - EBAC\",\n",
            "          \"type\": \"group\",\n",
            "          \"all_members_are_administrators\": false\n",
            "        },\n",
            "        \"date\": 1697807195,\n",
            "        \"migrate_to_chat_id\": -1002067176796\n",
            "      }\n",
            "    },\n",
            "    {\n",
            "      \"update_id\": 298870311,\n",
            "      \"my_chat_member\": {\n",
            "        \"chat\": {\n",
            "          \"id\": -1002067176796,\n",
            "          \"title\": \"Projeto 4 - EBAC\",\n",
            "          \"type\": \"supergroup\"\n",
            "        },\n",
            "        \"from\": {\n",
            "          \"id\": 1326340996,\n",
            "          \"is_bot\": false,\n",
            "          \"first_name\": \"C\",\n",
            "          \"last_name\": \"K\",\n",
            "          \"username\": \"gus_camar\",\n",
            "          \"language_code\": \"en\"\n",
            "        },\n",
            "        \"date\": 1697807195,\n",
            "        \"old_chat_member\": {\n",
            "          \"user\": {\n",
            "            \"id\": 6764256180,\n",
            "            \"is_bot\": true,\n",
            "            \"first_name\": \"m42-ebac-gustavocamargo\",\n",
            "            \"username\": \"m42_ebac_gustavocamargo_bot\"\n",
            "          },\n",
            "          \"status\": \"member\"\n",
            "        },\n",
            "        \"new_chat_member\": {\n",
            "          \"user\": {\n",
            "            \"id\": 6764256180,\n",
            "            \"is_bot\": true,\n",
            "            \"first_name\": \"m42-ebac-gustavocamargo\",\n",
            "            \"username\": \"m42_ebac_gustavocamargo_bot\"\n",
            "          },\n",
            "          \"status\": \"administrator\",\n",
            "          \"can_be_edited\": false,\n",
            "          \"can_manage_chat\": true,\n",
            "          \"can_change_info\": true,\n",
            "          \"can_delete_messages\": true,\n",
            "          \"can_invite_users\": true,\n",
            "          \"can_restrict_members\": true,\n",
            "          \"can_pin_messages\": true,\n",
            "          \"can_manage_topics\": false,\n",
            "          \"can_promote_members\": true,\n",
            "          \"can_manage_video_chats\": true,\n",
            "          \"is_anonymous\": true,\n",
            "          \"can_manage_voice_chats\": true,\n",
            "          \"custom_title\": \"Admin\"\n",
            "        }\n",
            "      }\n",
            "    },\n",
            "    {\n",
            "      \"update_id\": 298870312,\n",
            "      \"my_chat_member\": {\n",
            "        \"chat\": {\n",
            "          \"id\": -1002126730888,\n",
            "          \"title\": \"m42 ebac grupo\",\n",
            "          \"type\": \"supergroup\"\n",
            "        },\n",
            "        \"from\": {\n",
            "          \"id\": 1087968824,\n",
            "          \"is_bot\": true,\n",
            "          \"first_name\": \"Group\",\n",
            "          \"username\": \"GroupAnonymousBot\"\n",
            "        },\n",
            "        \"date\": 1697807226,\n",
            "        \"old_chat_member\": {\n",
            "          \"user\": {\n",
            "            \"id\": 6764256180,\n",
            "            \"is_bot\": true,\n",
            "            \"first_name\": \"m42-ebac-gustavocamargo\",\n",
            "            \"username\": \"m42_ebac_gustavocamargo_bot\"\n",
            "          },\n",
            "          \"status\": \"member\"\n",
            "        },\n",
            "        \"new_chat_member\": {\n",
            "          \"user\": {\n",
            "            \"id\": 6764256180,\n",
            "            \"is_bot\": true,\n",
            "            \"first_name\": \"m42-ebac-gustavocamargo\",\n",
            "            \"username\": \"m42_ebac_gustavocamargo_bot\"\n",
            "          },\n",
            "          \"status\": \"left\"\n",
            "        }\n",
            "      }\n",
            "    },\n",
            "    {\n",
            "      \"update_id\": 298870313,\n",
            "      \"message\": {\n",
            "        \"message_id\": 2,\n",
            "        \"from\": {\n",
            "          \"id\": 1326340996,\n",
            "          \"is_bot\": false,\n",
            "          \"first_name\": \"C\",\n",
            "          \"last_name\": \"K\",\n",
            "          \"username\": \"gus_camar\",\n",
            "          \"language_code\": \"en\"\n",
            "        },\n",
            "        \"chat\": {\n",
            "          \"id\": -1002067176796,\n",
            "          \"title\": \"Projeto 4 - EBAC\",\n",
            "          \"type\": \"supergroup\"\n",
            "        },\n",
            "        \"date\": 1697807250,\n",
            "        \"text\": \"Ol\\u00e1, mundo!\"\n",
            "      }\n",
            "    }\n",
            "  ]\n",
            "}\n"
          ]
        }
      ]
    }
  ]
}